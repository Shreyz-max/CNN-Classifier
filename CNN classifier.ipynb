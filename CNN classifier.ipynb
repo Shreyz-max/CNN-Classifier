{
 "cells": [
  {
   "cell_type": "code",
   "execution_count": 24,
   "metadata": {},
   "outputs": [
    {
     "name": "stdout",
     "output_type": "stream",
     "text": [
      "Found 105 images belonging to 3 classes.\n",
      "Found 30 images belonging to 3 classes.\n",
      "Epoch 1/3\n",
      "100/100 [==============================] - 30s 304ms/step - loss: 0.6707 - accuracy: 0.7234 - val_loss: 0.6632 - val_accuracy: 0.8333\n",
      "Epoch 2/3\n",
      "100/100 [==============================] - 30s 302ms/step - loss: 0.1479 - accuracy: 0.9509 - val_loss: 0.6803 - val_accuracy: 0.8000\n",
      "Epoch 3/3\n",
      "100/100 [==============================] - 30s 299ms/step - loss: 0.0624 - accuracy: 0.9844 - val_loss: 0.8146 - val_accuracy: 0.8000\n",
      "Saved model to disk\n"
     ]
    }
   ],
   "source": [
    "\n",
    "from keras.models import Sequential\n",
    "from keras.layers import Conv2D\n",
    "from keras.layers import MaxPooling2D\n",
    "from keras.layers import Flatten\n",
    "from keras.layers import Dense\n",
    "\n",
    "# Initialising the CNN\n",
    "classifier = Sequential()\n",
    "\n",
    "# Step 1 - Convolution\n",
    "classifier.add(Conv2D(32, (3, 3), input_shape = (64, 64, 3), activation = 'relu'))\n",
    "classifier.add(Conv2D(16, (3, 3), activation = 'relu'))\n",
    "# Step 2 - Pooling\n",
    "classifier.add(MaxPooling2D(pool_size = (2, 2)))\n",
    "\n",
    "# Adding a second convolutional layer\n",
    "\n",
    "\n",
    "\n",
    "\n",
    "# Step 3 - Flattening\n",
    "classifier.add(Flatten())\n",
    "\n",
    "# Step 4 - Full connection\n",
    "classifier.add(Dense(units = 128, activation = 'relu'))\n",
    "\n",
    "classifier.add(Dense(units = 3, activation = 'softmax'))\n",
    "\n",
    "# Compiling the CNN\n",
    "classifier.compile(optimizer = 'adam', loss = 'categorical_crossentropy', metrics = ['accuracy'])\n",
    "\n",
    "# Part 2 - Fitting the CNN to the images\n",
    "\n",
    "from keras.preprocessing.image import ImageDataGenerator\n",
    "\n",
    "train_datagen = ImageDataGenerator(rescale = 1./255,\n",
    "                                   shear_range = 0.2,\n",
    "                                   zoom_range = 0.2,\n",
    "                                   horizontal_flip = True)\n",
    "test_datagen = ImageDataGenerator(rescale = 1./255)\n",
    "\n",
    "training_set = train_datagen.flow_from_directory('/home/shreya/Downloads/parent/train',\n",
    "                                                 target_size = (64, 64),\n",
    "                                                 batch_size = 32,\n",
    "                                                class_mode='categorical')\n",
    "\n",
    "test_set = test_datagen.flow_from_directory('/home/shreya/Downloads/parent/test',\n",
    "                                            target_size = (64, 64),\n",
    "                                            batch_size = 32,\n",
    "                                           class_mode='categorical')\n",
    "\n",
    "model = classifier.fit_generator(training_set,\n",
    "                         steps_per_epoch = 100,\n",
    "                         epochs = 3,\n",
    "                         validation_data = test_set,    \n",
    "                         validation_steps = 50)\n",
    "\n",
    "classifier.save(\"family_model.h5\")\n",
    "print(\"Saved model to disk\")\n",
    "\n",
    "# Part 3 - Making new predictions\n",
    "\n",
    "\n",
    "\n",
    "\n"
   ]
  },
  {
   "cell_type": "code",
   "execution_count": 25,
   "metadata": {},
   "outputs": [
    {
     "name": "stdout",
     "output_type": "stream",
     "text": [
      "<PIL.Image.Image image mode=RGB size=64x64 at 0x7FA4A2DF4748>\n",
      "naman\n"
     ]
    }
   ],
   "source": [
    "from keras.models import load_model\n",
    "import numpy as np\n",
    "from keras.preprocessing import image\n",
    "test_image = image.load_img('/home/shreya/Downloads/test.jpg', target_size = (64, 64))\n",
    "print(test_image)\n",
    "test_image = image.img_to_array(test_image)\n",
    "test_image = np.expand_dims(test_image, axis = 0)\n",
    "model = load_model('/home/shreya/family_model.h5')\n",
    "result = model.predict(test_image)\n",
    "\n",
    "if result[0][0] == 0:\n",
    "    prediction = 'mom'\n",
    "    print(prediction)\n",
    "elif result[0][0] == 1:\n",
    "    prediction = 'naman'\n",
    "    print(prediction)\n",
    "else:\n",
    "    prediction = 'pragya'\n",
    "    print(prediction)"
   ]
  },
  {
   "cell_type": "code",
   "execution_count": null,
   "metadata": {},
   "outputs": [],
   "source": []
  }
 ],
 "metadata": {
  "kernelspec": {
   "display_name": "Python 3",
   "language": "python",
   "name": "python3"
  },
  "language_info": {
   "codemirror_mode": {
    "name": "ipython",
    "version": 3
   },
   "file_extension": ".py",
   "mimetype": "text/x-python",
   "name": "python",
   "nbconvert_exporter": "python",
   "pygments_lexer": "ipython3",
   "version": "3.6.9"
  }
 },
 "nbformat": 4,
 "nbformat_minor": 4
}
